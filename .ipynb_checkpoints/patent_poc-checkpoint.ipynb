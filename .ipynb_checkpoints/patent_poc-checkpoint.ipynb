{
 "cells": [
  {
   "cell_type": "code",
   "execution_count": 1,
   "id": "8fbb8ccd-40d1-404c-b119-9fa1b3f13cc1",
   "metadata": {},
   "outputs": [],
   "source": [
    "import pandas as pd"
   ]
  },
  {
   "cell_type": "code",
   "execution_count": 2,
   "id": "35fd93be-1330-4f34-b35b-16439c39039d",
   "metadata": {},
   "outputs": [],
   "source": [
    "df = pd.read_csv(\"patent_scraper/google_list.csv\")"
   ]
  },
  {
   "cell_type": "code",
   "execution_count": 3,
   "id": "ba2ca907-cfd0-47d7-9230-b91888c32d3d",
   "metadata": {},
   "outputs": [
    {
     "data": {
      "text/html": [
       "<div>\n",
       "<style scoped>\n",
       "    .dataframe tbody tr th:only-of-type {\n",
       "        vertical-align: middle;\n",
       "    }\n",
       "\n",
       "    .dataframe tbody tr th {\n",
       "        vertical-align: top;\n",
       "    }\n",
       "\n",
       "    .dataframe thead th {\n",
       "        text-align: right;\n",
       "    }\n",
       "</style>\n",
       "<table border=\"1\" class=\"dataframe\">\n",
       "  <thead>\n",
       "    <tr style=\"text-align: right;\">\n",
       "      <th></th>\n",
       "      <th>id</th>\n",
       "      <th>title</th>\n",
       "      <th>assignee</th>\n",
       "      <th>inventor/author</th>\n",
       "      <th>priority date</th>\n",
       "      <th>filing/creation date</th>\n",
       "      <th>publication date</th>\n",
       "      <th>grant date</th>\n",
       "      <th>result link</th>\n",
       "      <th>representative figure link</th>\n",
       "    </tr>\n",
       "  </thead>\n",
       "  <tbody>\n",
       "    <tr>\n",
       "      <th>0</th>\n",
       "      <td>US-10778703-B2</td>\n",
       "      <td>Method and system for generating an interactiv...</td>\n",
       "      <td>Splunk Inc.</td>\n",
       "      <td>Sudhakar Muddu, Christos Tryfonas</td>\n",
       "      <td>8/31/15</td>\n",
       "      <td>12/10/18</td>\n",
       "      <td>9/15/20</td>\n",
       "      <td>9/15/20</td>\n",
       "      <td>https://patents.google.com/patent/US10778703B2/en</td>\n",
       "      <td>https://patentimages.storage.googleapis.com/97...</td>\n",
       "    </tr>\n",
       "    <tr>\n",
       "      <th>1</th>\n",
       "      <td>US-10762206-B2</td>\n",
       "      <td>Automated behavioral and static analysis using...</td>\n",
       "      <td>Veracode, Inc.</td>\n",
       "      <td>Theodora H. Titonis, Nelson R. Manohar-Alers, ...</td>\n",
       "      <td>9/16/11</td>\n",
       "      <td>5/16/17</td>\n",
       "      <td>9/1/20</td>\n",
       "      <td>9/1/20</td>\n",
       "      <td>https://patents.google.com/patent/US10762206B2/en</td>\n",
       "      <td>https://patentimages.storage.googleapis.com/f5...</td>\n",
       "    </tr>\n",
       "    <tr>\n",
       "      <th>2</th>\n",
       "      <td>CN-107491038-B</td>\n",
       "      <td>Machine learning machine, numerical control de...</td>\n",
       "      <td>发那科株式会社</td>\n",
       "      <td>高山堪太, 佐藤和生, 前田英朗</td>\n",
       "      <td>6/9/16</td>\n",
       "      <td>6/2/17</td>\n",
       "      <td>3/3/20</td>\n",
       "      <td>3/3/20</td>\n",
       "      <td>https://patents.google.com/patent/CN107491038B/en</td>\n",
       "      <td>https://patentimages.storage.googleapis.com/30...</td>\n",
       "    </tr>\n",
       "    <tr>\n",
       "      <th>3</th>\n",
       "      <td>JP-6898534-B2</td>\n",
       "      <td>Systems and methods to reduce data storage in ...</td>\n",
       "      <td>トヨタ リサーチ インスティテュート，インコーポレイティド, トヨタ  リサーチ  インステ...</td>\n",
       "      <td>充啓 馬渕, 充啓 馬渕</td>\n",
       "      <td>3/13/18</td>\n",
       "      <td>2/14/19</td>\n",
       "      <td>7/7/21</td>\n",
       "      <td>7/7/21</td>\n",
       "      <td>https://patents.google.com/patent/JP6898534B2/en</td>\n",
       "      <td>https://patentimages.storage.googleapis.com/f3...</td>\n",
       "    </tr>\n",
       "    <tr>\n",
       "      <th>4</th>\n",
       "      <td>US-2020364569-A1</td>\n",
       "      <td>Training reinforcement learning neural networks</td>\n",
       "      <td>Deepmind Technologies Limited</td>\n",
       "      <td>Hado Philip van Hasselt, Arthur Clément Guez</td>\n",
       "      <td>9/11/15</td>\n",
       "      <td>8/3/20</td>\n",
       "      <td>11/19/20</td>\n",
       "      <td>NaN</td>\n",
       "      <td>https://patents.google.com/patent/US2020036456...</td>\n",
       "      <td>https://patentimages.storage.googleapis.com/13...</td>\n",
       "    </tr>\n",
       "  </tbody>\n",
       "</table>\n",
       "</div>"
      ],
      "text/plain": [
       "                 id                                              title  \\\n",
       "0    US-10778703-B2  Method and system for generating an interactiv...   \n",
       "1    US-10762206-B2  Automated behavioral and static analysis using...   \n",
       "2    CN-107491038-B  Machine learning machine, numerical control de...   \n",
       "3     JP-6898534-B2  Systems and methods to reduce data storage in ...   \n",
       "4  US-2020364569-A1   Training reinforcement learning neural networks    \n",
       "\n",
       "                                            assignee  \\\n",
       "0                                        Splunk Inc.   \n",
       "1                                     Veracode, Inc.   \n",
       "2                                            发那科株式会社   \n",
       "3  トヨタ リサーチ インスティテュート，インコーポレイティド, トヨタ  リサーチ  インステ...   \n",
       "4                      Deepmind Technologies Limited   \n",
       "\n",
       "                                     inventor/author priority date  \\\n",
       "0                  Sudhakar Muddu, Christos Tryfonas       8/31/15   \n",
       "1  Theodora H. Titonis, Nelson R. Manohar-Alers, ...       9/16/11   \n",
       "2                                   高山堪太, 佐藤和生, 前田英朗        6/9/16   \n",
       "3                                       充啓 馬渕, 充啓 馬渕       3/13/18   \n",
       "4       Hado Philip van Hasselt, Arthur Clément Guez       9/11/15   \n",
       "\n",
       "  filing/creation date publication date grant date  \\\n",
       "0             12/10/18          9/15/20    9/15/20   \n",
       "1              5/16/17           9/1/20     9/1/20   \n",
       "2               6/2/17           3/3/20     3/3/20   \n",
       "3              2/14/19           7/7/21     7/7/21   \n",
       "4               8/3/20         11/19/20        NaN   \n",
       "\n",
       "                                         result link  \\\n",
       "0  https://patents.google.com/patent/US10778703B2/en   \n",
       "1  https://patents.google.com/patent/US10762206B2/en   \n",
       "2  https://patents.google.com/patent/CN107491038B/en   \n",
       "3   https://patents.google.com/patent/JP6898534B2/en   \n",
       "4  https://patents.google.com/patent/US2020036456...   \n",
       "\n",
       "                          representative figure link  \n",
       "0  https://patentimages.storage.googleapis.com/97...  \n",
       "1  https://patentimages.storage.googleapis.com/f5...  \n",
       "2  https://patentimages.storage.googleapis.com/30...  \n",
       "3  https://patentimages.storage.googleapis.com/f3...  \n",
       "4  https://patentimages.storage.googleapis.com/13...  "
      ]
     },
     "execution_count": 3,
     "metadata": {},
     "output_type": "execute_result"
    }
   ],
   "source": [
    "df.head()"
   ]
  },
  {
   "cell_type": "code",
   "execution_count": 4,
   "id": "e711cb87-d02e-4398-aa61-9b8c45c33988",
   "metadata": {},
   "outputs": [
    {
     "data": {
      "text/plain": [
       "Index(['id', 'title', 'assignee', 'inventor/author', 'priority date',\n",
       "       'filing/creation date', 'publication date', 'grant date', 'result link',\n",
       "       'representative figure link'],\n",
       "      dtype='object')"
      ]
     },
     "execution_count": 4,
     "metadata": {},
     "output_type": "execute_result"
    }
   ],
   "source": [
    "df.columns"
   ]
  },
  {
   "cell_type": "code",
   "execution_count": 5,
   "id": "2102555d-9640-45dd-883b-83a114328008",
   "metadata": {},
   "outputs": [
    {
     "data": {
      "text/plain": [
       "19763"
      ]
     },
     "execution_count": 5,
     "metadata": {},
     "output_type": "execute_result"
    }
   ],
   "source": [
    "len(df['result link'])"
   ]
  },
  {
   "cell_type": "code",
   "execution_count": 6,
   "id": "3f75236d-51e1-4a37-853a-1aeadb1c77c3",
   "metadata": {},
   "outputs": [
    {
     "data": {
      "text/plain": [
       "'https://patents.google.com/patent/US10778703B2/en'"
      ]
     },
     "execution_count": 6,
     "metadata": {},
     "output_type": "execute_result"
    }
   ],
   "source": [
    "df['result link'][0]"
   ]
  },
  {
   "cell_type": "code",
   "execution_count": 7,
   "id": "dde331c3-9ce3-435b-86e7-d46f914a3de2",
   "metadata": {},
   "outputs": [],
   "source": [
    "import os\n",
    "from selenium.webdriver import ChromeOptions, Chrome\n",
    "from selenium.webdriver.common.by import By\n",
    "from selenium import webdriver"
   ]
  },
  {
   "cell_type": "code",
   "execution_count": 8,
   "id": "6584cdee-8084-4199-9a25-3b2595c3da71",
   "metadata": {},
   "outputs": [],
   "source": [
    "driver=webdriver.Chrome()\n",
    "driver.get(df['result link'][1])"
   ]
  },
  {
   "cell_type": "code",
   "execution_count": 9,
   "id": "80f6ff50-f6ef-4cfe-a43b-73be4bb4ef8f",
   "metadata": {},
   "outputs": [],
   "source": [
    "driver.implicitly_wait(1)"
   ]
  },
  {
   "cell_type": "code",
   "execution_count": 10,
   "id": "28178d37-5c97-4a8d-8f86-63096d0689a3",
   "metadata": {},
   "outputs": [
    {
     "name": "stdout",
     "output_type": "stream",
     "text": [
      "US10762206B2\n",
      "Automated behavioral and static analysis using an instrumented sandbox and machine learning classification for mobile security\n",
      "A method comprises, based on receiving a request to analyze at least a first mobile application, scheduling the request for a first sandbox. The first mobile application is analyzed based on the request, wherein the analysis of the first mobile application comprises performing a behavioral analysis of the first mobile application within the first sandbox and performing a static analysis of the first mobile application. A first feature vector is generated based on data resulting from the analysis of the first mobile application. The first mobile application is determined to comprise malware based, at least in part, on comparing the first feature vector with at least a second feature vector, wherein the second feature vector was generated based on at least one of a static analysis and a behavioral analysis of malware.\n",
      "-----\n",
      "1. A system comprising:\n",
      "a processor;\n",
      "a machine-readable medium having instructions stored thereon, the instructions executable by the processor to cause the system to,\n",
      "based on receipt of a request to analyze at least a first mobile application, schedule the request for a first sandbox;\n",
      "perform analysis of the first mobile application based on the request, wherein the instructions to perform the analysis of the first mobile application comprise instructions to perform behavioral analysis of the first mobile application within the first sandbox and perform static analysis of the first mobile application;\n",
      "generate a first feature vector based on data resulting from the behavioral analysis and the static analysis of the first mobile application; and\n",
      "determine whether the first mobile application comprises malware based, at least in part, on comparison of the first feature vector with at least a second feature vector, wherein the second feature vector was previously generated based on a static analysis and a behavioral analysis of known malware.\n",
      "a processor;\n",
      "a machine-readable medium having instructions stored thereon, the instructions executable by the processor to cause the system to,\n",
      "based on receipt of a request to analyze at least a first mobile application, schedule the request for a first sandbox;\n",
      "perform analysis of the first mobile application based on the request, wherein the instructions to perform the analysis of the first mobile application comprise instructions to perform behavioral analysis of the first mobile application within the first sandbox and perform static analysis of the first mobile application;\n",
      "generate a first feature vector based on data resulting from the behavioral analysis and the static analysis of the first mobile application; and\n",
      "determine whether the first mobile application comprises malware based, at least in part, on comparison of the first feature vector with at least a second feature vector, wherein the second feature vector was previously generated based on a static analysis and a behavioral analysis of known malware.\n",
      "based on receipt of a request to analyze at least a first mobile application, schedule the request for a first sandbox;\n",
      "perform analysis of the first mobile application based on the request, wherein the instructions to perform the analysis of the first mobile application comprise instructions to perform behavioral analysis of the first mobile application within the first sandbox and perform static analysis of the first mobile application;\n",
      "generate a first feature vector based on data resulting from the behavioral analysis and the static analysis of the first mobile application; and\n",
      "determine whether the first mobile application comprises malware based, at least in part, on comparison of the first feature vector with at least a second feature vector, wherein the second feature vector was previously generated based on a static analysis and a behavioral analysis of known malware.\n",
      "2. The system of claim 1, further comprising instructions executable by the processor to cause the system to collect log files generated during the analysis of the first mobile application based on the request, wherein the instructions to generate the first feature vector comprise instructions to generate the first feature vector based on extraction of features from the log files.\n",
      "3. The system of claim 1, wherein the instructions executable by the processor to cause the system to determine whether the first mobile application comprises malware comprise instructions executable by the processor to cause the system to indicate at least a first predicted behavior of the first mobile application based on the determination.\n",
      "4. The system of claim 1, wherein the instructions executable by the processor to cause the system to perform the analysis of the first mobile application based on the request comprise instructions executable by the processor to cause the system to apply one or more risk assessment rules to binary code of the first mobile application during the analysis of the first mobile application based on the request.\n",
      "5. The system of claim 1, wherein the first feature vector comprises a behavioral feature and a static feature.\n",
      "6. The system of claim 1, wherein the instructions executable by the processor to cause the system to determine whether the first mobile application comprises malware comprise instructions to:\n",
      "determine if the first feature vector and the second feature vector are sufficiently aligned; and\n",
      "based on a determination that the first feature vector and the second feature vector are sufficiently aligned, determine that the first mobile application comprises malware.\n",
      "determine if the first feature vector and the second feature vector are sufficiently aligned; and\n",
      "based on a determination that the first feature vector and the second feature vector are sufficiently aligned, determine that the first mobile application comprises malware.\n",
      "7. The system of claim 6, wherein the instructions executable by the processor to cause the system to determine if the first feature vector and the second feature vector are sufficiently aligned comprise instructions executable by the processor to cause the system to determine if a Euclidean distance between the first feature vector and the second feature vector does not exceed a threshold Euclidean distance.\n",
      "8. The system of claim 1, wherein the instructions executable by the processor to cause the system to determine whether the first mobile application comprises malware comprise instructions to:\n",
      "cluster a plurality of feature vectors into at least a first cluster, wherein the plurality of feature vectors was generated based on analysis of a plurality of mobile applications;\n",
      "based on a determination that a distance between the second feature vector and a centroid of the first cluster satisfies a membership criterion, assign the second feature vector to the first cluster;\n",
      "determine a distance between the first feature vector and the centroid of the first cluster; and\n",
      "based on a determination that the distance between the first feature vector and the centroid of the first cluster satisfies a membership criterion, map the first feature vector to the first cluster.\n",
      "cluster a plurality of feature vectors into at least a first cluster, wherein the plurality of feature vectors was generated based on analysis of a plurality of mobile applications;\n",
      "based on a determination that a distance between the second feature vector and a centroid of the first cluster satisfies a membership criterion, assign the second feature vector to the first cluster;\n",
      "determine a distance between the first feature vector and the centroid of the first cluster; and\n",
      "based on a determination that the distance between the first feature vector and the centroid of the first cluster satisfies a membership criterion, map the first feature vector to the first cluster.\n",
      "9. A method comprising:\n",
      "based on receiving a request to analyze a first mobile application, scheduling the request for a first sandbox;\n",
      "performing an analysis of the first mobile application based on the request, wherein performing the analysis of the first mobile application comprises performing a behavioral analysis of the first mobile application within the first sandbox and performing a static analysis of the first mobile application;\n",
      "generating a first feature vector based on data resulting from the behavioral analysis and the static analysis of the first mobile application; and\n",
      "determining that the first mobile application comprises malware based, at least in part, on comparing the first feature vector with at least a second feature vector, wherein the second feature vector was previously generated based on a static analysis and a behavioral analysis of known malware.\n",
      "based on receiving a request to analyze a first mobile application, scheduling the request for a first sandbox;\n",
      "performing an analysis of the first mobile application based on the request, wherein performing the analysis of the first mobile application comprises performing a behavioral analysis of the first mobile application within the first sandbox and performing a static analysis of the first mobile application;\n",
      "generating a first feature vector based on data resulting from the behavioral analysis and the static analysis of the first mobile application; and\n",
      "determining that the first mobile application comprises malware based, at least in part, on comparing the first feature vector with at least a second feature vector, wherein the second feature vector was previously generated based on a static analysis and a behavioral analysis of known malware.\n",
      "10. The method of claim 9, further comprising collecting log files generated during the analysis of the first mobile application based on the request, wherein generating the first feature vector comprises generating the first feature vector based on extraction of features from the log files.\n",
      "11. The method of claim 9, wherein determining that the first mobile application comprises malware comprises indicating at least a first predicted behavior of the first mobile application based on the determining.\n",
      "12. The method of claim 9, wherein performing the analysis of the first mobile application based on the request comprises applying one or more risk assessment rules to binary code of the first mobile application during the analysis of the first mobile application.\n",
      "13. The method of claim 9, wherein determining that the first mobile application comprises malware comprises:\n",
      "determining if the first feature vector and the second feature vector are sufficiently aligned; and\n",
      "based on determining that the first feature vector and the second feature vector are sufficiently aligned, determining that the first mobile application comprises malware.\n",
      "determining if the first feature vector and the second feature vector are sufficiently aligned; and\n",
      "based on determining that the first feature vector and the second feature vector are sufficiently aligned, determining that the first mobile application comprises malware.\n",
      "14. The method of claim 13, wherein determining if the first feature vector and the second feature vector are sufficiently aligned comprises determining if a Euclidean distance between the first feature vector and the second feature vector does not exceed a threshold Euclidean distance.\n",
      "15. The method of claim 9, wherein determining that the first mobile application comprises malware comprises:\n",
      "clustering a plurality of feature vectors into at least a first cluster, wherein the plurality of feature vectors was generated based on analysis of a plurality of mobile applications;\n",
      "based on determining that a distance between the second feature vector and a centroid of the first cluster satisfies a membership criterion, assigning the second feature vector to the first cluster;\n",
      "determining a distance between the first feature vector and the centroid of the first cluster; and\n",
      "based on determining that the distance between the first feature vector and the centroid of the first cluster satisfies a membership criterion, mapping the first feature vector to the first cluster.\n",
      "clustering a plurality of feature vectors into at least a first cluster, wherein the plurality of feature vectors was generated based on analysis of a plurality of mobile applications;\n",
      "based on determining that a distance between the second feature vector and a centroid of the first cluster satisfies a membership criterion, assigning the second feature vector to the first cluster;\n",
      "determining a distance between the first feature vector and the centroid of the first cluster; and\n",
      "based on determining that the distance between the first feature vector and the centroid of the first cluster satisfies a membership criterion, mapping the first feature vector to the first cluster.\n",
      "16. The method of claim 9, wherein the first feature vector comprises a behavioral feature and a static feature.\n",
      "17. A non-transitory, computer-readable medium having instructions stored thereon that are executable by a computing device to perform operations comprising:\n",
      "based on receiving a request to analyze a first mobile application, scheduling the request for a first sandbox;\n",
      "performing an analysis of the first mobile application based on the request, wherein performing the analysis of the first mobile application comprises performing a behavioral analysis of the first mobile application within the first sandbox and performing a static analysis of the first mobile application;\n",
      "generating a first feature vector based on data resulting from the behavioral analysis and the static analysis of the first mobile application; and\n",
      "determining whether the first mobile application comprises malware based, at least in part, on comparing the first feature vector with at least a second feature vector, wherein the second feature vector was previously generated based on a static analysis and a behavioral analysis of known malware.\n",
      "based on receiving a request to analyze a first mobile application, scheduling the request for a first sandbox;\n",
      "performing an analysis of the first mobile application based on the request, wherein performing the analysis of the first mobile application comprises performing a behavioral analysis of the first mobile application within the first sandbox and performing a static analysis of the first mobile application;\n",
      "generating a first feature vector based on data resulting from the behavioral analysis and the static analysis of the first mobile application; and\n",
      "determining whether the first mobile application comprises malware based, at least in part, on comparing the first feature vector with at least a second feature vector, wherein the second feature vector was previously generated based on a static analysis and a behavioral analysis of known malware.\n",
      "18. The non-transitory, computer-readable medium of claim 17, wherein the operations further comprise collecting log files generated during the behavioral analysis and the static analysis of the first mobile application, wherein generating the first feature vector comprises generating the first feature vector based on extraction of features from the log files.\n",
      "19. The non-transitory, computer-readable medium of claim 17, wherein determining whether the first mobile application comprises malware comprises:\n",
      "determining if the first feature vector and the second feature vector are sufficiently aligned; and\n",
      "based on determining that the first feature vector and the second feature vector are sufficiently aligned, determining that the first mobile application comprises malware.\n",
      "determining if the first feature vector and the second feature vector are sufficiently aligned; and\n",
      "based on determining that the first feature vector and the second feature vector are sufficiently aligned, determining that the first mobile application comprises malware.\n",
      "20. The non-transitory, computer-readable medium of claim 19, wherein determining if the first feature vector and the second feature vector are sufficiently aligned comprises determining if a Euclidean distance between the first feature vector and the second feature vector does not exceed a threshold Euclidean distance.\n"
     ]
    }
   ],
   "source": [
    "pubnum = driver.find_element(By.CSS_SELECTOR, \"h2#pubnum\")\n",
    "title = driver.find_element(By.CSS_SELECTOR, \"h1#title\")\n",
    "abstract = driver.find_element(By.CSS_SELECTOR, \".abstract.patent-text\")\n",
    "\n",
    "claims_div = driver.find_element(By.CSS_SELECTOR, \".claims.patent-text\")\n",
    "claims = claims_div.find_elements(By.CSS_SELECTOR, \".claim-text.patent-text\")\n",
    "\n",
    "\n",
    "print(pubnum.text)\n",
    "print(title.text)\n",
    "print(abstract.text)\n",
    "print(\"-----\")\n",
    "for claim in claims:\n",
    "    print(claim.text)"
   ]
  },
  {
   "cell_type": "code",
   "execution_count": 11,
   "id": "922434f0-983c-450a-a24d-1fb9fdfc5a44",
   "metadata": {},
   "outputs": [],
   "source": [
    "import json\n",
    "import os"
   ]
  },
  {
   "cell_type": "code",
   "execution_count": 12,
   "id": "f46eb898-c4c0-47c1-a4f6-522bfbb9c670",
   "metadata": {},
   "outputs": [
    {
     "name": "stdout",
     "output_type": "stream",
     "text": [
      "Dataset folder already exists\n"
     ]
    }
   ],
   "source": [
    "dataset_folder = \"./dataset\"\n",
    "if not os.path.exists(dataset_folder):\n",
    "    os.makedirs(dataset_folder)\n",
    "    print(\"Dataset folder created\")\n",
    "else:\n",
    "    print(\"Dataset folder already exists\")"
   ]
  },
  {
   "cell_type": "code",
   "execution_count": 13,
   "id": "73a89506-bda5-45e4-825d-80cf6ed3e327",
   "metadata": {},
   "outputs": [],
   "source": [
    "def create_patent_folder(patent_id):\n",
    "    patent_folder_path = f\"./dataset/{patent_id}\"\n",
    "    if not os.path.exists(patent_folder_path):\n",
    "        os.makedirs(patent_folder_path)\n",
    "        print(f\"Folder {patent_id} created\")\n",
    "    else:\n",
    "        print(f\"Folder {patent_id} already exists\")\n",
    "    return patent_folder_path"
   ]
  },
  {
   "cell_type": "code",
   "execution_count": 46,
   "id": "1c69afe4-8b34-425a-8a59-1427b963d461",
   "metadata": {},
   "outputs": [],
   "source": [
    "def scrape(patent_link):\n",
    "    driver=webdriver.Chrome()\n",
    "    driver.get(patent_link)\n",
    "    driver.implicitly_wait(1)\n",
    "    result = {}\n",
    "    result['patent_link'] = patent_link\n",
    "    try:\n",
    "        abstract = driver.find_element(By.CSS_SELECTOR, \".abstract.patent-text\")\n",
    "        result['abstract'] = abstract.text\n",
    "    except:\n",
    "        result['abstract'] = \"\"\n",
    "    try:\n",
    "        claims_div = driver.find_element(By.CSS_SELECTOR, \".claims.patent-text\")\n",
    "        claims = claims_div.find_elements(By.CSS_SELECTOR, \".claim-text.patent-text\")\n",
    "        claims_text = \"\"\n",
    "        for claim in claims:\n",
    "            claims_text += claim.text\n",
    "        result['claims'] = claims_text\n",
    "    except Exception:\n",
    "        result['claims'] = \"\"\n",
    "    return result"
   ]
  },
  {
   "cell_type": "code",
   "execution_count": 47,
   "id": "2e3dc7e8-56ad-4264-918c-d3fd52ea8706",
   "metadata": {},
   "outputs": [],
   "source": [
    "def saveToFile(content):\n",
    "    file_path = f\"./dataset/{content['patent_id']}/{content['patent_id']}.json\"\n",
    "    json_data = json.dumps(content, indent=4)\n",
    "    with open(file_path, 'w') as json_file:\n",
    "        json_file.write(json_data)\n",
    "        print(f\"File created for {content['patent_id']} at path: {file_path}\")"
   ]
  },
  {
   "cell_type": "code",
   "execution_count": 48,
   "id": "1e9bb5dc-549c-4b8a-ac5f-585650beb14c",
   "metadata": {},
   "outputs": [
    {
     "name": "stdout",
     "output_type": "stream",
     "text": [
      "Fetching patent: US-10778703-B2 from https://patents.google.com/patent/US10778703B2/en\n",
      "Folder US-10778703-B2 already exists\n",
      "File created for US-10778703-B2 at path: ./dataset/US-10778703-B2/US-10778703-B2.json\n",
      "Fetching patent: US-10762206-B2 from https://patents.google.com/patent/US10762206B2/en\n",
      "Folder US-10762206-B2 already exists\n",
      "File created for US-10762206-B2 at path: ./dataset/US-10762206-B2/US-10762206-B2.json\n",
      "Fetching patent: CN-107491038-B from https://patents.google.com/patent/CN107491038B/en\n",
      "Folder CN-107491038-B already exists\n",
      "File created for CN-107491038-B at path: ./dataset/CN-107491038-B/CN-107491038-B.json\n",
      "Fetching patent: JP-6898534-B2 from https://patents.google.com/patent/JP6898534B2/en\n",
      "Folder JP-6898534-B2 already exists\n",
      "File created for JP-6898534-B2 at path: ./dataset/JP-6898534-B2/JP-6898534-B2.json\n",
      "Fetching patent: US-2020364569-A1 from https://patents.google.com/patent/US20200364569A1/en\n",
      "Folder US-2020364569-A1 already exists\n",
      "File created for US-2020364569-A1 at path: ./dataset/US-2020364569-A1/US-2020364569-A1.json\n",
      "Fetching patent: JP-6148316-B2 from https://patents.google.com/patent/JP6148316B2/en\n",
      "Folder JP-6148316-B2 already exists\n",
      "File created for JP-6148316-B2 at path: ./dataset/JP-6148316-B2/JP-6148316-B2.json\n",
      "Fetching patent: JP-6063016-B1 from https://patents.google.com/patent/JP6063016B1/en\n",
      "Folder JP-6063016-B1 already exists\n",
      "File created for JP-6063016-B1 at path: ./dataset/JP-6063016-B1/JP-6063016-B1.json\n",
      "Fetching patent: US-11210583-B2 from https://patents.google.com/patent/US11210583B2/en\n",
      "Folder US-11210583-B2 already exists\n",
      "File created for US-11210583-B2 at path: ./dataset/US-11210583-B2/US-11210583-B2.json\n",
      "Fetching patent: JP-5969676-B1 from https://patents.google.com/patent/JP5969676B1/en\n",
      "Folder JP-5969676-B1 already exists\n",
      "File created for JP-5969676-B1 at path: ./dataset/JP-5969676-B1/JP-5969676-B1.json\n",
      "Fetching patent: KR-102428293-B1 from https://patents.google.com/patent/KR102428293B1/en\n",
      "Folder KR-102428293-B1 already exists\n",
      "File created for KR-102428293-B1 at path: ./dataset/KR-102428293-B1/KR-102428293-B1.json\n",
      "10\n"
     ]
    }
   ],
   "source": [
    "count = 0\n",
    "for index,row in df.iterrows():\n",
    "    patent_id = row['id']\n",
    "    patent_link = row['result link']\n",
    "    print(f\"Fetching patent: {patent_id} from {patent_link}\")\n",
    "    patent_folder_path = create_patent_folder(patent_id)\n",
    "    content = scrape(patent_link)\n",
    "    content['patent_id'] = patent_id\n",
    "    saveToFile(content)\n",
    "    count += 1\n",
    "    if count == 10:\n",
    "        break\n",
    "print(count)"
   ]
  },
  {
   "cell_type": "code",
   "execution_count": null,
   "id": "20eaf95e-497e-40f4-9b65-c90949322451",
   "metadata": {},
   "outputs": [],
   "source": []
  }
 ],
 "metadata": {
  "kernelspec": {
   "display_name": "Python 3 (ipykernel)",
   "language": "python",
   "name": "python3"
  },
  "language_info": {
   "codemirror_mode": {
    "name": "ipython",
    "version": 3
   },
   "file_extension": ".py",
   "mimetype": "text/x-python",
   "name": "python",
   "nbconvert_exporter": "python",
   "pygments_lexer": "ipython3",
   "version": "3.10.1"
  }
 },
 "nbformat": 4,
 "nbformat_minor": 5
}
