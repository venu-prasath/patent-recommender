{
 "cells": [
  {
   "cell_type": "code",
   "execution_count": 127,
   "id": "8fbb8ccd-40d1-404c-b119-9fa1b3f13cc1",
   "metadata": {},
   "outputs": [],
   "source": [
    "import pandas as pd\n",
    "import json\n",
    "import os\n",
    "from selenium.webdriver import ChromeOptions\n",
    "from selenium.webdriver.common.by import By\n",
    "from selenium import webdriver"
   ]
  },
  {
   "cell_type": "code",
   "execution_count": 128,
   "id": "35fd93be-1330-4f34-b35b-16439c39039d",
   "metadata": {},
   "outputs": [],
   "source": [
    "df = pd.read_csv(\"scraper_list/google_list_v2.csv\")"
   ]
  },
  {
   "cell_type": "code",
   "execution_count": 129,
   "metadata": {},
   "outputs": [
    {
     "name": "stdout",
     "output_type": "stream",
     "text": [
      "19502\n"
     ]
    }
   ],
   "source": [
    "print(len(df))"
   ]
  },
  {
   "cell_type": "code",
   "execution_count": 130,
   "id": "ba2ca907-cfd0-47d7-9230-b91888c32d3d",
   "metadata": {},
   "outputs": [
    {
     "data": {
      "text/html": [
       "<div>\n",
       "<style scoped>\n",
       "    .dataframe tbody tr th:only-of-type {\n",
       "        vertical-align: middle;\n",
       "    }\n",
       "\n",
       "    .dataframe tbody tr th {\n",
       "        vertical-align: top;\n",
       "    }\n",
       "\n",
       "    .dataframe thead th {\n",
       "        text-align: right;\n",
       "    }\n",
       "</style>\n",
       "<table border=\"1\" class=\"dataframe\">\n",
       "  <thead>\n",
       "    <tr style=\"text-align: right;\">\n",
       "      <th></th>\n",
       "      <th>id</th>\n",
       "      <th>title</th>\n",
       "      <th>assignee</th>\n",
       "      <th>inventor/author</th>\n",
       "      <th>priority date</th>\n",
       "      <th>filing/creation date</th>\n",
       "      <th>publication date</th>\n",
       "      <th>grant date</th>\n",
       "      <th>result link</th>\n",
       "      <th>representative figure link</th>\n",
       "    </tr>\n",
       "  </thead>\n",
       "  <tbody>\n",
       "    <tr>\n",
       "      <th>0</th>\n",
       "      <td>US-11604547-B2</td>\n",
       "      <td>Multipoint touchscreen</td>\n",
       "      <td>Apple Inc.</td>\n",
       "      <td>Steve Hotelling, Joshua A. Strickon, Brian Q. ...</td>\n",
       "      <td>2004-05-06</td>\n",
       "      <td>2021-01-27</td>\n",
       "      <td>2023-03-14</td>\n",
       "      <td>2023-03-14</td>\n",
       "      <td>https://patents.google.com/patent/US11604547B2/en</td>\n",
       "      <td>https://patentimages.storage.googleapis.com/a1...</td>\n",
       "    </tr>\n",
       "    <tr>\n",
       "      <th>1</th>\n",
       "      <td>US-11029838-B2</td>\n",
       "      <td>Touch screen device, method, and graphical use...</td>\n",
       "      <td>Apple Inc.</td>\n",
       "      <td>Stephen O. Lemay, Richard Williamson</td>\n",
       "      <td>2006-09-06</td>\n",
       "      <td>2019-12-04</td>\n",
       "      <td>2021-06-08</td>\n",
       "      <td>2021-06-08</td>\n",
       "      <td>https://patents.google.com/patent/US11029838B2/en</td>\n",
       "      <td>https://patentimages.storage.googleapis.com/bf...</td>\n",
       "    </tr>\n",
       "    <tr>\n",
       "      <th>2</th>\n",
       "      <td>US-11379541-B2</td>\n",
       "      <td>System and method for adapting a control funct...</td>\n",
       "      <td>Autoconnect Holdings Llc</td>\n",
       "      <td>Christopher P. Ricci</td>\n",
       "      <td>2013-04-15</td>\n",
       "      <td>2021-04-16</td>\n",
       "      <td>2022-07-05</td>\n",
       "      <td>2022-07-05</td>\n",
       "      <td>https://patents.google.com/patent/US11379541B2/en</td>\n",
       "      <td>https://patentimages.storage.googleapis.com/f0...</td>\n",
       "    </tr>\n",
       "    <tr>\n",
       "      <th>3</th>\n",
       "      <td>US-11390881-B2</td>\n",
       "      <td>Soybean event MON89788 and methods for detecti...</td>\n",
       "      <td>Monsanto Technology, Llc</td>\n",
       "      <td>Marianne Malven, Jennifer Rinehart, Nancy Tayl...</td>\n",
       "      <td>2005-05-27</td>\n",
       "      <td>2020-07-01</td>\n",
       "      <td>2022-07-19</td>\n",
       "      <td>2022-07-19</td>\n",
       "      <td>https://patents.google.com/patent/US11390881B2/en</td>\n",
       "      <td>https://patentimages.storage.googleapis.com/3f...</td>\n",
       "    </tr>\n",
       "    <tr>\n",
       "      <th>4</th>\n",
       "      <td>US-11423886-B2</td>\n",
       "      <td>Task flow identification based on user intent</td>\n",
       "      <td>Apple Inc.</td>\n",
       "      <td>Thomas Robert Gruber, Adam John Cheyer, Dag Ki...</td>\n",
       "      <td>2010-01-18</td>\n",
       "      <td>2020-05-20</td>\n",
       "      <td>2022-08-23</td>\n",
       "      <td>2022-08-23</td>\n",
       "      <td>https://patents.google.com/patent/US11423886B2/en</td>\n",
       "      <td>https://patentimages.storage.googleapis.com/6a...</td>\n",
       "    </tr>\n",
       "  </tbody>\n",
       "</table>\n",
       "</div>"
      ],
      "text/plain": [
       "               id                                              title  \\\n",
       "0  US-11604547-B2                            Multipoint touchscreen    \n",
       "1  US-11029838-B2  Touch screen device, method, and graphical use...   \n",
       "2  US-11379541-B2  System and method for adapting a control funct...   \n",
       "3  US-11390881-B2  Soybean event MON89788 and methods for detecti...   \n",
       "4  US-11423886-B2     Task flow identification based on user intent    \n",
       "\n",
       "                   assignee  \\\n",
       "0                Apple Inc.   \n",
       "1                Apple Inc.   \n",
       "2  Autoconnect Holdings Llc   \n",
       "3  Monsanto Technology, Llc   \n",
       "4                Apple Inc.   \n",
       "\n",
       "                                     inventor/author priority date  \\\n",
       "0  Steve Hotelling, Joshua A. Strickon, Brian Q. ...    2004-05-06   \n",
       "1               Stephen O. Lemay, Richard Williamson    2006-09-06   \n",
       "2                               Christopher P. Ricci    2013-04-15   \n",
       "3  Marianne Malven, Jennifer Rinehart, Nancy Tayl...    2005-05-27   \n",
       "4  Thomas Robert Gruber, Adam John Cheyer, Dag Ki...    2010-01-18   \n",
       "\n",
       "  filing/creation date publication date  grant date  \\\n",
       "0           2021-01-27       2023-03-14  2023-03-14   \n",
       "1           2019-12-04       2021-06-08  2021-06-08   \n",
       "2           2021-04-16       2022-07-05  2022-07-05   \n",
       "3           2020-07-01       2022-07-19  2022-07-19   \n",
       "4           2020-05-20       2022-08-23  2022-08-23   \n",
       "\n",
       "                                         result link  \\\n",
       "0  https://patents.google.com/patent/US11604547B2/en   \n",
       "1  https://patents.google.com/patent/US11029838B2/en   \n",
       "2  https://patents.google.com/patent/US11379541B2/en   \n",
       "3  https://patents.google.com/patent/US11390881B2/en   \n",
       "4  https://patents.google.com/patent/US11423886B2/en   \n",
       "\n",
       "                          representative figure link  \n",
       "0  https://patentimages.storage.googleapis.com/a1...  \n",
       "1  https://patentimages.storage.googleapis.com/bf...  \n",
       "2  https://patentimages.storage.googleapis.com/f0...  \n",
       "3  https://patentimages.storage.googleapis.com/3f...  \n",
       "4  https://patentimages.storage.googleapis.com/6a...  "
      ]
     },
     "execution_count": 130,
     "metadata": {},
     "output_type": "execute_result"
    }
   ],
   "source": [
    "df.head()"
   ]
  },
  {
   "cell_type": "code",
   "execution_count": 131,
   "id": "e711cb87-d02e-4398-aa61-9b8c45c33988",
   "metadata": {},
   "outputs": [
    {
     "data": {
      "text/plain": [
       "Index(['id', 'title', 'assignee', 'inventor/author', 'priority date',\n",
       "       'filing/creation date', 'publication date', 'grant date', 'result link',\n",
       "       'representative figure link'],\n",
       "      dtype='object')"
      ]
     },
     "execution_count": 131,
     "metadata": {},
     "output_type": "execute_result"
    }
   ],
   "source": [
    "df.columns"
   ]
  },
  {
   "cell_type": "code",
   "execution_count": 142,
   "id": "6584cdee-8084-4199-9a25-3b2595c3da71",
   "metadata": {},
   "outputs": [],
   "source": [
    "chrome_options = ChromeOptions()\n",
    "chrome_options.add_argument(\"--headless\")\n",
    "driver=webdriver.Chrome(options=chrome_options)"
   ]
  },
  {
   "cell_type": "code",
   "execution_count": 133,
   "metadata": {},
   "outputs": [],
   "source": [
    "def test_selenium():\n",
    "    driver.get(df['result link'][1])\n",
    "    driver.implicitly_wait(1) \n",
    "    pubnum = driver.find_element(By.CSS_SELECTOR, \"h2#pubnum\")\n",
    "    title = driver.find_element(By.CSS_SELECTOR, \"h1#title\")\n",
    "    abstract = driver.find_element(By.CSS_SELECTOR, \".abstract.patent-text\")\n",
    "    claims_div = driver.find_element(By.CSS_SELECTOR, \".claims.patent-text\")\n",
    "    claims = claims_div.find_elements(By.CSS_SELECTOR, \".claim-text.patent-text\")\n",
    "    print(pubnum.text)\n",
    "    print(title.text)\n",
    "    print(abstract.text)\n",
    "    print(\"-----\")\n",
    "    for claim in claims:\n",
    "        print(claim.text)\n",
    "# test_selenium()"
   ]
  },
  {
   "cell_type": "code",
   "execution_count": 134,
   "id": "f46eb898-c4c0-47c1-a4f6-522bfbb9c670",
   "metadata": {},
   "outputs": [
    {
     "name": "stdout",
     "output_type": "stream",
     "text": [
      "Dataset folder already exists\n"
     ]
    }
   ],
   "source": [
    "dataset_folder = \"./dataset\"\n",
    "if not os.path.exists(dataset_folder):\n",
    "    os.makedirs(dataset_folder)\n",
    "    print(\"Dataset folder created\")\n",
    "else:\n",
    "    print(\"Dataset folder already exists\")"
   ]
  },
  {
   "cell_type": "code",
   "execution_count": 135,
   "id": "73a89506-bda5-45e4-825d-80cf6ed3e327",
   "metadata": {},
   "outputs": [],
   "source": [
    "def create_patent_folder(patent_id):\n",
    "    patent_folder_path = f\"./dataset/{patent_id}\"\n",
    "    if not os.path.exists(patent_folder_path):\n",
    "        os.makedirs(patent_folder_path)\n",
    "        print(f\"Folder {patent_id} created\")\n",
    "    else:\n",
    "        print(f\"Folder {patent_id} already exists\")\n",
    "    return patent_folder_path"
   ]
  },
  {
   "cell_type": "code",
   "execution_count": 136,
   "id": "2e3dc7e8-56ad-4264-918c-d3fd52ea8706",
   "metadata": {},
   "outputs": [],
   "source": [
    "def saveToFile(content):\n",
    "    file_path = f\"./dataset/{content['patent_id']}/{content['patent_id']}.json\"\n",
    "    json_data = json.dumps(content, indent=4)\n",
    "    with open(file_path, 'w') as json_file:\n",
    "        json_file.write(json_data)\n",
    "        print(f\"File created for {content['patent_id']} at path: {file_path}\")"
   ]
  },
  {
   "cell_type": "code",
   "execution_count": 145,
   "id": "1c69afe4-8b34-425a-8a59-1427b963d461",
   "metadata": {},
   "outputs": [],
   "source": [
    "def scrape(patent_link, result = {}):\n",
    "    driver=webdriver.Chrome()\n",
    "    driver.get(patent_link)\n",
    "    driver.implicitly_wait(5)\n",
    "    result['patent_link'] = patent_link\n",
    "    #Inventors and assignee\n",
    "    people_div = driver.find_element(By.CSS_SELECTOR, \".important-people\")\n",
    "    inventors_st_mod = people_div.find_elements(By.CSS_SELECTOR, \"state-modifier a\")\n",
    "    inventors = []\n",
    "    for inventor in inventors_st_mod:\n",
    "        inventors.append(inventor.text)\n",
    "    result['inventors'] = inventors\n",
    "    try:\n",
    "        abstract = driver.find_element(By.CSS_SELECTOR, \".abstract.patent-text\")\n",
    "        result['abstract'] = abstract.text\n",
    "    except:\n",
    "        result['abstract'] = \"\"\n",
    "    try:\n",
    "        claims_div = driver.find_element(By.CSS_SELECTOR, \".claims.patent-text\")\n",
    "        claims = claims_div.find_elements(By.CSS_SELECTOR, \".claim-text.patent-text\")\n",
    "        claims_text = []\n",
    "        for claim in claims:\n",
    "            claims_text.append(claim.text)\n",
    "        result['claims'] = claims_text\n",
    "    except Exception:\n",
    "        result['claims'] = []\n",
    "    return"
   ]
  },
  {
   "cell_type": "code",
   "execution_count": 146,
   "id": "1e9bb5dc-549c-4b8a-ac5f-585650beb14c",
   "metadata": {},
   "outputs": [
    {
     "name": "stdout",
     "output_type": "stream",
     "text": [
      "Fetching patent: US-11604547-B2 from https://patents.google.com/patent/US11604547B2/en\n",
      "Folder US-11604547-B2 created\n",
      "File created for US-11604547-B2 at path: ./dataset/US-11604547-B2/US-11604547-B2.json\n",
      "File ./dataset/US-11604547-B2/US-11604547-B2.json created successfully.\n",
      "Fetching patent: US-11029838-B2 from https://patents.google.com/patent/US11029838B2/en\n",
      "Folder US-11029838-B2 created\n",
      "File created for US-11029838-B2 at path: ./dataset/US-11029838-B2/US-11029838-B2.json\n",
      "File ./dataset/US-11029838-B2/US-11029838-B2.json created successfully.\n",
      "2\n"
     ]
    }
   ],
   "source": [
    "count = 0\n",
    "for index,row in df.iterrows():\n",
    "    patent_id = row['id']\n",
    "    content = {}\n",
    "    content['patent_id'] = patent_id\n",
    "    content['title'] = row['title']\n",
    "    content['assignee'] = row['assignee']\n",
    "    content['publication_date'] = row['publication date']\n",
    "    patent_link = row['result link']\n",
    "    print(f\"Fetching patent: {patent_id} from {patent_link}\")\n",
    "    patent_folder_path = create_patent_folder(patent_id)\n",
    "    if not os.path.exists(patent_folder_path+f\"/{patent_id}.json\"):\n",
    "        scrape(patent_link, content)\n",
    "        saveToFile(content)\n",
    "        print(f\"File {patent_folder_path}/{patent_id}.json created successfully.\")\n",
    "    else:\n",
    "        print(f\"File {patent_folder_path}/{patent_id}.json already exists.\")\n",
    "    count += 1\n",
    "    if count == 2:\n",
    "        break\n",
    "print(count)"
   ]
  },
  {
   "cell_type": "code",
   "execution_count": null,
   "id": "20eaf95e-497e-40f4-9b65-c90949322451",
   "metadata": {},
   "outputs": [],
   "source": []
  }
 ],
 "metadata": {
  "kernelspec": {
   "display_name": "Python 3 (ipykernel)",
   "language": "python",
   "name": "python3"
  },
  "language_info": {
   "codemirror_mode": {
    "name": "ipython",
    "version": 3
   },
   "file_extension": ".py",
   "mimetype": "text/x-python",
   "name": "python",
   "nbconvert_exporter": "python",
   "pygments_lexer": "ipython3",
   "version": "3.11.3"
  }
 },
 "nbformat": 4,
 "nbformat_minor": 5
}
