{
 "cells": [
  {
   "cell_type": "code",
   "execution_count": 203,
   "metadata": {},
   "outputs": [],
   "source": [
    "import json\n",
    "import re\n",
    "from spacy import load as spacyload\n",
    "from sentence_transformers import SentenceTransformer\n"
   ]
  },
  {
   "cell_type": "code",
   "execution_count": 176,
   "metadata": {},
   "outputs": [],
   "source": [
    "def tokenize(doc, lemmatized=False, remove_stopword=False, \n",
    "                   remove_punct = True, pos_tag = False, remove_num=False):\n",
    "    nlp=spacyload(\"en_core_web_sm\")\n",
    "    doc=nlp(doc.lower().strip())\n",
    "\n",
    "    tokens=[]\n",
    "\n",
    "    for token in doc:\n",
    "        if (remove_stopword and token.is_stop) or (remove_punct and token.is_punct) or (token.text=='') or (token.text.isspace()) or (remove_num and token.text.isnumeric()):\n",
    "            continue\n",
    "\n",
    "        token_ls=token.text\n",
    "        if lemmatized:\n",
    "            token_ls=token.lemma_\n",
    "        if pos_tag:\n",
    "            token_ls=(token_ls, token.pos_)\n",
    "        tokens.append(token_ls)\n",
    "    return tokens\n"
   ]
  },
  {
   "cell_type": "code",
   "execution_count": 154,
   "metadata": {},
   "outputs": [],
   "source": [
    "patent_file=json.load(open(\"./US-11604547-B2.json\"))"
   ]
  },
  {
   "cell_type": "code",
   "execution_count": 201,
   "metadata": {},
   "outputs": [],
   "source": [
    "# re.split(r\"([0-9]+\\.)\", patent_file['claims2']) # Use this regex if you want claim number included in the list. \n",
    "\n",
    "claims = [ claim.replace(\"\\n\", \" \")for claim in re.split(r\"[0-9]+\\.\", patent_file['claims2']) if claim!='']\n",
    "claims = [ ' '.join(tokenize(doc=claim, lemmatized=True, remove_punct=True, remove_stopword=True, remove_num=True)) for claim in claims ]\n"
   ]
  },
  {
   "cell_type": "code",
   "execution_count": 204,
   "metadata": {},
   "outputs": [
    {
     "data": {
      "application/vnd.jupyter.widget-view+json": {
       "model_id": "504e1071c7c24c2b8c79fed155bf7078",
       "version_major": 2,
       "version_minor": 0
      },
      "text/plain": [
       "Batches:   0%|          | 0/1 [00:00<?, ?it/s]"
      ]
     },
     "metadata": {},
     "output_type": "display_data"
    },
    {
     "name": "stdout",
     "output_type": "stream",
     "text": [
      "(20, 768)\n"
     ]
    }
   ],
   "source": [
    "model = SentenceTransformer('sentence-transformers/all-mpnet-base-v2')\n",
    "embeddings = model.encode(claims, show_progress_bar=True, convert_to_numpy=True)\n",
    "print(embeddings.shape)\n"
   ]
  }
 ],
 "metadata": {
  "kernelspec": {
   "display_name": "Python 3",
   "language": "python",
   "name": "python3"
  },
  "language_info": {
   "codemirror_mode": {
    "name": "ipython",
    "version": 3
   },
   "file_extension": ".py",
   "mimetype": "text/x-python",
   "name": "python",
   "nbconvert_exporter": "python",
   "pygments_lexer": "ipython3",
   "version": "3.8.3"
  }
 },
 "nbformat": 4,
 "nbformat_minor": 2
}
