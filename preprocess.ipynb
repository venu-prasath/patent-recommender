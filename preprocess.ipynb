{
 "cells": [
  {
   "cell_type": "code",
   "execution_count": 3,
   "metadata": {},
   "outputs": [
    {
     "name": "stdout",
     "output_type": "stream",
     "text": [
      "Requirement already satisfied: sentence_transformers in c:\\users\\venup\\.pyenv\\pyenv-win\\versions\\3.11.3\\lib\\site-packages (2.2.2)\n",
      "Requirement already satisfied: transformers<5.0.0,>=4.6.0 in c:\\users\\venup\\.pyenv\\pyenv-win\\versions\\3.11.3\\lib\\site-packages (from sentence_transformers) (4.35.0)\n",
      "Requirement already satisfied: tqdm in c:\\users\\venup\\.pyenv\\pyenv-win\\versions\\3.11.3\\lib\\site-packages (from sentence_transformers) (4.66.1)\n",
      "Requirement already satisfied: torch>=1.6.0 in c:\\users\\venup\\.pyenv\\pyenv-win\\versions\\3.11.3\\lib\\site-packages (from sentence_transformers) (2.1.0)\n",
      "Requirement already satisfied: torchvision in c:\\users\\venup\\.pyenv\\pyenv-win\\versions\\3.11.3\\lib\\site-packages (from sentence_transformers) (0.16.0)\n",
      "Requirement already satisfied: numpy in c:\\users\\venup\\.pyenv\\pyenv-win\\versions\\3.11.3\\lib\\site-packages (from sentence_transformers) (1.24.3)\n",
      "Requirement already satisfied: scikit-learn in c:\\users\\venup\\.pyenv\\pyenv-win\\versions\\3.11.3\\lib\\site-packages (from sentence_transformers) (1.3.2)\n",
      "Requirement already satisfied: scipy in c:\\users\\venup\\.pyenv\\pyenv-win\\versions\\3.11.3\\lib\\site-packages (from sentence_transformers) (1.11.3)\n",
      "Requirement already satisfied: nltk in c:\\users\\venup\\.pyenv\\pyenv-win\\versions\\3.11.3\\lib\\site-packages (from sentence_transformers) (3.8.1)\n",
      "Requirement already satisfied: sentencepiece in c:\\users\\venup\\.pyenv\\pyenv-win\\versions\\3.11.3\\lib\\site-packages (from sentence_transformers) (0.1.99)\n",
      "Requirement already satisfied: huggingface-hub>=0.4.0 in c:\\users\\venup\\.pyenv\\pyenv-win\\versions\\3.11.3\\lib\\site-packages (from sentence_transformers) (0.17.3)\n",
      "Requirement already satisfied: filelock in c:\\users\\venup\\.pyenv\\pyenv-win\\versions\\3.11.3\\lib\\site-packages (from huggingface-hub>=0.4.0->sentence_transformers) (3.13.1)\n",
      "Requirement already satisfied: fsspec in c:\\users\\venup\\.pyenv\\pyenv-win\\versions\\3.11.3\\lib\\site-packages (from huggingface-hub>=0.4.0->sentence_transformers) (2023.10.0)\n",
      "Requirement already satisfied: requests in c:\\users\\venup\\.pyenv\\pyenv-win\\versions\\3.11.3\\lib\\site-packages (from huggingface-hub>=0.4.0->sentence_transformers) (2.31.0)\n",
      "Requirement already satisfied: pyyaml>=5.1 in c:\\users\\venup\\.pyenv\\pyenv-win\\versions\\3.11.3\\lib\\site-packages (from huggingface-hub>=0.4.0->sentence_transformers) (6.0)\n",
      "Requirement already satisfied: typing-extensions>=3.7.4.3 in c:\\users\\venup\\.pyenv\\pyenv-win\\versions\\3.11.3\\lib\\site-packages (from huggingface-hub>=0.4.0->sentence_transformers) (4.8.0)\n",
      "Requirement already satisfied: packaging>=20.9 in c:\\users\\venup\\.pyenv\\pyenv-win\\versions\\3.11.3\\lib\\site-packages (from huggingface-hub>=0.4.0->sentence_transformers) (23.1)\n",
      "Requirement already satisfied: sympy in c:\\users\\venup\\.pyenv\\pyenv-win\\versions\\3.11.3\\lib\\site-packages (from torch>=1.6.0->sentence_transformers) (1.12)\n",
      "Requirement already satisfied: networkx in c:\\users\\venup\\.pyenv\\pyenv-win\\versions\\3.11.3\\lib\\site-packages (from torch>=1.6.0->sentence_transformers) (3.2.1)\n",
      "Requirement already satisfied: jinja2 in c:\\users\\venup\\.pyenv\\pyenv-win\\versions\\3.11.3\\lib\\site-packages (from torch>=1.6.0->sentence_transformers) (3.1.2)\n",
      "Requirement already satisfied: colorama in c:\\users\\venup\\.pyenv\\pyenv-win\\versions\\3.11.3\\lib\\site-packages (from tqdm->sentence_transformers) (0.4.6)\n",
      "Requirement already satisfied: regex!=2019.12.17 in c:\\users\\venup\\.pyenv\\pyenv-win\\versions\\3.11.3\\lib\\site-packages (from transformers<5.0.0,>=4.6.0->sentence_transformers) (2023.10.3)\n",
      "Requirement already satisfied: tokenizers<0.15,>=0.14 in c:\\users\\venup\\.pyenv\\pyenv-win\\versions\\3.11.3\\lib\\site-packages (from transformers<5.0.0,>=4.6.0->sentence_transformers) (0.14.1)\n",
      "Requirement already satisfied: safetensors>=0.3.1 in c:\\users\\venup\\.pyenv\\pyenv-win\\versions\\3.11.3\\lib\\site-packages (from transformers<5.0.0,>=4.6.0->sentence_transformers) (0.4.0)\n",
      "Requirement already satisfied: click in c:\\users\\venup\\.pyenv\\pyenv-win\\versions\\3.11.3\\lib\\site-packages (from nltk->sentence_transformers) (8.1.7)\n",
      "Requirement already satisfied: joblib in c:\\users\\venup\\.pyenv\\pyenv-win\\versions\\3.11.3\\lib\\site-packages (from nltk->sentence_transformers) (1.3.2)\n",
      "Requirement already satisfied: threadpoolctl>=2.0.0 in c:\\users\\venup\\.pyenv\\pyenv-win\\versions\\3.11.3\\lib\\site-packages (from scikit-learn->sentence_transformers) (3.2.0)\n",
      "Requirement already satisfied: pillow!=8.3.*,>=5.3.0 in c:\\users\\venup\\.pyenv\\pyenv-win\\versions\\3.11.3\\lib\\site-packages (from torchvision->sentence_transformers) (9.5.0)\n",
      "Requirement already satisfied: MarkupSafe>=2.0 in c:\\users\\venup\\.pyenv\\pyenv-win\\versions\\3.11.3\\lib\\site-packages (from jinja2->torch>=1.6.0->sentence_transformers) (2.1.3)\n",
      "Requirement already satisfied: charset-normalizer<4,>=2 in c:\\users\\venup\\.pyenv\\pyenv-win\\versions\\3.11.3\\lib\\site-packages (from requests->huggingface-hub>=0.4.0->sentence_transformers) (3.1.0)\n",
      "Requirement already satisfied: idna<4,>=2.5 in c:\\users\\venup\\.pyenv\\pyenv-win\\versions\\3.11.3\\lib\\site-packages (from requests->huggingface-hub>=0.4.0->sentence_transformers) (3.4)\n",
      "Requirement already satisfied: urllib3<3,>=1.21.1 in c:\\users\\venup\\.pyenv\\pyenv-win\\versions\\3.11.3\\lib\\site-packages (from requests->huggingface-hub>=0.4.0->sentence_transformers) (1.26.16)\n",
      "Requirement already satisfied: certifi>=2017.4.17 in c:\\users\\venup\\.pyenv\\pyenv-win\\versions\\3.11.3\\lib\\site-packages (from requests->huggingface-hub>=0.4.0->sentence_transformers) (2023.5.7)\n",
      "Requirement already satisfied: mpmath>=0.19 in c:\\users\\venup\\.pyenv\\pyenv-win\\versions\\3.11.3\\lib\\site-packages (from sympy->torch>=1.6.0->sentence_transformers) (1.3.0)\n"
     ]
    }
   ],
   "source": [
    "!pip install sentence_transformers"
   ]
  },
  {
   "cell_type": "code",
   "execution_count": 4,
   "metadata": {},
   "outputs": [],
   "source": [
    "import json\n",
    "import re\n",
    "from spacy import load as spacyload\n",
    "from sentence_transformers import SentenceTransformer\n"
   ]
  },
  {
   "cell_type": "code",
   "execution_count": 5,
   "metadata": {},
   "outputs": [],
   "source": [
    "def tokenize(doc, lemmatized=False, remove_stopword=False, \n",
    "                   remove_punct = True, pos_tag = False, remove_num=False):\n",
    "    nlp=spacyload(\"en_core_web_sm\")\n",
    "    doc=nlp(doc.lower().strip())\n",
    "\n",
    "    tokens=[]\n",
    "\n",
    "    for token in doc:\n",
    "        if (remove_stopword and token.is_stop) or (remove_punct and token.is_punct) or (token.text=='') or (token.text.isspace()) or (remove_num and token.text.isnumeric()):\n",
    "            continue\n",
    "\n",
    "        token_ls=token.text\n",
    "        if lemmatized:\n",
    "            token_ls=token.lemma_\n",
    "        if pos_tag:\n",
    "            token_ls=(token_ls, token.pos_)\n",
    "        tokens.append(token_ls)\n",
    "    return tokens\n"
   ]
  },
  {
   "cell_type": "code",
   "execution_count": 8,
   "metadata": {},
   "outputs": [],
   "source": [
    "patent_file=json.load(open(\"./dataset/US-11604547-B2/US-11604547-B2.json\"))"
   ]
  },
  {
   "cell_type": "code",
   "execution_count": 9,
   "metadata": {},
   "outputs": [],
   "source": [
    "# re.split(r\"([0-9]+\\.)\", patent_file['claims2']) # Use this regex if you want claim number included in the list. \n",
    "\n",
    "claims = [ claim.replace(\"\\n\", \" \")for claim in re.split(r\"[0-9]+\\.\", patent_file['claims2']) if claim!='']\n",
    "claims = [ ' '.join(tokenize(doc=claim, lemmatized=True, remove_punct=True, remove_stopword=True, remove_num=True)) for claim in claims ]\n"
   ]
  },
  {
   "cell_type": "code",
   "execution_count": 10,
   "metadata": {},
   "outputs": [
    {
     "data": {
      "application/vnd.jupyter.widget-view+json": {
       "model_id": "9fe044152d6647519d4a4f327d0db104",
       "version_major": 2,
       "version_minor": 0
      },
      "text/plain": [
       "Downloading (…)99753/.gitattributes:   0%|          | 0.00/1.18k [00:00<?, ?B/s]"
      ]
     },
     "metadata": {},
     "output_type": "display_data"
    },
    {
     "data": {
      "application/vnd.jupyter.widget-view+json": {
       "model_id": "ddc840d4b13f4076af96c5d3714a70c4",
       "version_major": 2,
       "version_minor": 0
      },
      "text/plain": [
       "Downloading (…)_Pooling/config.json:   0%|          | 0.00/190 [00:00<?, ?B/s]"
      ]
     },
     "metadata": {},
     "output_type": "display_data"
    },
    {
     "data": {
      "application/vnd.jupyter.widget-view+json": {
       "model_id": "3bd56d32fde641db9c7264058f2362ea",
       "version_major": 2,
       "version_minor": 0
      },
      "text/plain": [
       "Downloading (…)0cdb299753/README.md:   0%|          | 0.00/10.6k [00:00<?, ?B/s]"
      ]
     },
     "metadata": {},
     "output_type": "display_data"
    },
    {
     "data": {
      "application/vnd.jupyter.widget-view+json": {
       "model_id": "d655d436d0f14d229171a3f8b470bb90",
       "version_major": 2,
       "version_minor": 0
      },
      "text/plain": [
       "Downloading (…)db299753/config.json:   0%|          | 0.00/571 [00:00<?, ?B/s]"
      ]
     },
     "metadata": {},
     "output_type": "display_data"
    },
    {
     "data": {
      "application/vnd.jupyter.widget-view+json": {
       "model_id": "bb30dc472736471387390a40e8c4d934",
       "version_major": 2,
       "version_minor": 0
      },
      "text/plain": [
       "Downloading (…)ce_transformers.json:   0%|          | 0.00/116 [00:00<?, ?B/s]"
      ]
     },
     "metadata": {},
     "output_type": "display_data"
    },
    {
     "data": {
      "application/vnd.jupyter.widget-view+json": {
       "model_id": "1819bb5ecfa74816bd62431a94bed4aa",
       "version_major": 2,
       "version_minor": 0
      },
      "text/plain": [
       "Downloading (…)753/data_config.json:   0%|          | 0.00/39.3k [00:00<?, ?B/s]"
      ]
     },
     "metadata": {},
     "output_type": "display_data"
    },
    {
     "data": {
      "application/vnd.jupyter.widget-view+json": {
       "model_id": "af831e038e824244b6dd2703758e6000",
       "version_major": 2,
       "version_minor": 0
      },
      "text/plain": [
       "Downloading pytorch_model.bin:   0%|          | 0.00/438M [00:00<?, ?B/s]"
      ]
     },
     "metadata": {},
     "output_type": "display_data"
    },
    {
     "data": {
      "application/vnd.jupyter.widget-view+json": {
       "model_id": "a0ea34a25c394c7b855fa9cd197dc8bd",
       "version_major": 2,
       "version_minor": 0
      },
      "text/plain": [
       "Downloading (…)nce_bert_config.json:   0%|          | 0.00/53.0 [00:00<?, ?B/s]"
      ]
     },
     "metadata": {},
     "output_type": "display_data"
    },
    {
     "data": {
      "application/vnd.jupyter.widget-view+json": {
       "model_id": "f7d4029a4f424648b2019239bd3a4c0c",
       "version_major": 2,
       "version_minor": 0
      },
      "text/plain": [
       "Downloading (…)cial_tokens_map.json:   0%|          | 0.00/239 [00:00<?, ?B/s]"
      ]
     },
     "metadata": {},
     "output_type": "display_data"
    },
    {
     "data": {
      "application/vnd.jupyter.widget-view+json": {
       "model_id": "a1fc34c09c2f40e8a4fe7647df937d81",
       "version_major": 2,
       "version_minor": 0
      },
      "text/plain": [
       "Downloading (…)99753/tokenizer.json:   0%|          | 0.00/466k [00:00<?, ?B/s]"
      ]
     },
     "metadata": {},
     "output_type": "display_data"
    },
    {
     "data": {
      "application/vnd.jupyter.widget-view+json": {
       "model_id": "b8282004af874c6687727071498501a8",
       "version_major": 2,
       "version_minor": 0
      },
      "text/plain": [
       "Downloading (…)okenizer_config.json:   0%|          | 0.00/363 [00:00<?, ?B/s]"
      ]
     },
     "metadata": {},
     "output_type": "display_data"
    },
    {
     "data": {
      "application/vnd.jupyter.widget-view+json": {
       "model_id": "0987a00a07484b2c92b04e93b525f17f",
       "version_major": 2,
       "version_minor": 0
      },
      "text/plain": [
       "Downloading (…)9753/train_script.py:   0%|          | 0.00/13.1k [00:00<?, ?B/s]"
      ]
     },
     "metadata": {},
     "output_type": "display_data"
    },
    {
     "data": {
      "application/vnd.jupyter.widget-view+json": {
       "model_id": "748c76e545b14bd0aa57925ad3e695d2",
       "version_major": 2,
       "version_minor": 0
      },
      "text/plain": [
       "Downloading (…)0cdb299753/vocab.txt:   0%|          | 0.00/232k [00:00<?, ?B/s]"
      ]
     },
     "metadata": {},
     "output_type": "display_data"
    },
    {
     "data": {
      "application/vnd.jupyter.widget-view+json": {
       "model_id": "0fab55b991cf423b882684cdf2c62557",
       "version_major": 2,
       "version_minor": 0
      },
      "text/plain": [
       "Downloading (…)b299753/modules.json:   0%|          | 0.00/349 [00:00<?, ?B/s]"
      ]
     },
     "metadata": {},
     "output_type": "display_data"
    },
    {
     "data": {
      "application/vnd.jupyter.widget-view+json": {
       "model_id": "5f82b4aed69a4cc2903dd09c4424d4c0",
       "version_major": 2,
       "version_minor": 0
      },
      "text/plain": [
       "Batches:   0%|          | 0/1 [00:00<?, ?it/s]"
      ]
     },
     "metadata": {},
     "output_type": "display_data"
    },
    {
     "name": "stdout",
     "output_type": "stream",
     "text": [
      "(20, 768)\n"
     ]
    }
   ],
   "source": [
    "model = SentenceTransformer('sentence-transformers/all-mpnet-base-v2')\n",
    "embeddings = model.encode(claims, show_progress_bar=True, convert_to_numpy=True)\n",
    "print(embeddings.shape)\n"
   ]
  },
  {
   "cell_type": "code",
   "execution_count": null,
   "metadata": {},
   "outputs": [],
   "source": []
  }
 ],
 "metadata": {
  "kernelspec": {
   "display_name": "Python 3 (ipykernel)",
   "language": "python",
   "name": "python3"
  },
  "language_info": {
   "codemirror_mode": {
    "name": "ipython",
    "version": 3
   },
   "file_extension": ".py",
   "mimetype": "text/x-python",
   "name": "python",
   "nbconvert_exporter": "python",
   "pygments_lexer": "ipython3",
   "version": "3.11.3"
  }
 },
 "nbformat": 4,
 "nbformat_minor": 2
}
