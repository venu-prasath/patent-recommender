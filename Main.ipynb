{
 "cells": [
  {
   "cell_type": "code",
   "execution_count": 1,
   "metadata": {},
   "outputs": [],
   "source": [
    "import json\n",
    "import pandas as pd\n",
    "from glob import glob\n",
    "from tqdm import tqdm\n",
    "tqdm.pandas()\n",
    "import numpy as np\n",
    "from scripts.graph_funcs import *\n",
    "from scripts.network_graph import make_network\n",
    "import networkx as nx\n"
   ]
  },
  {
   "cell_type": "code",
   "execution_count": 2,
   "metadata": {},
   "outputs": [],
   "source": [
    "file_list=glob('dataset/*/*.json')\n",
    "df=pd.DataFrame.from_dict(json.load(open(file_list[0])), orient=\"index\").T\n",
    "for patent_loc in file_list[1:]:\n",
    "    patent_file=json.load(open(patent_loc))\n",
    "    temp_df=pd.DataFrame.from_dict(patent_file, orient=\"index\").T\n",
    "    df=pd.concat([df, temp_df], ignore_index=True)"
   ]
  },
  {
   "cell_type": "code",
   "execution_count": 3,
   "metadata": {},
   "outputs": [],
   "source": [
    "df['publication_date']= pd.to_datetime(df['publication_date'])\n",
    "df['publication_year']=df['publication_date'].apply(lambda k: k.year)"
   ]
  },
  {
   "cell_type": "code",
   "execution_count": 4,
   "metadata": {},
   "outputs": [
    {
     "name": "stderr",
     "output_type": "stream",
     "text": [
      "100%|██████████| 271216/271216 [02:04<00:00, 2181.38it/s]\n"
     ]
    }
   ],
   "source": [
    "# G=make_network(df, use_abstract=True, use_cpc=True, file_loc='dataset/network.adjlist')"
   ]
  },
  {
   "cell_type": "code",
   "execution_count": 4,
   "metadata": {},
   "outputs": [],
   "source": [
    "G=nx.read_adjlist('dataset/network.adjlist')"
   ]
  },
  {
   "cell_type": "code",
   "execution_count": 5,
   "metadata": {},
   "outputs": [],
   "source": [
    "classificiation_patent={}\n",
    "\n",
    "for idx in df.index:\n",
    "    for cpc in df['classifications'][idx]:\n",
    "        if cpc in classificiation_patent:\n",
    "            classificiation_patent[cpc].append(df['patent_id'][idx])\n",
    "        else:\n",
    "            classificiation_patent[cpc]=[df['patent_id'][idx]]"
   ]
  },
  {
   "cell_type": "code",
   "execution_count": 6,
   "metadata": {},
   "outputs": [],
   "source": [
    "patent_to_check='US-4658370-A'"
   ]
  },
  {
   "cell_type": "code",
   "execution_count": 7,
   "metadata": {},
   "outputs": [],
   "source": [
    "starter_nodes=[]\n",
    "for cpc in df[df['patent_id']==patent_to_check]['classifications'].values[0]:\n",
    "    starter_nodes.append(np.random.choice(classificiation_patent[cpc]))"
   ]
  },
  {
   "cell_type": "code",
   "execution_count": 8,
   "metadata": {},
   "outputs": [],
   "source": [
    "random_walks=[]\n",
    "for node in starter_nodes:\n",
    "    random_walks.append(random_walk(G, node))"
   ]
  },
  {
   "cell_type": "code",
   "execution_count": 9,
   "metadata": {},
   "outputs": [],
   "source": [
    "from functools import reduce\n",
    "\n",
    "common_patents = list(reduce(lambda i, j: i & j, (set(x) for x in random_walks)))"
   ]
  },
  {
   "cell_type": "code",
   "execution_count": 10,
   "metadata": {},
   "outputs": [],
   "source": [
    "matched_nodes={}\n",
    "if patent_to_check in common_patents:\n",
    "    common_patents.remove(patent_to_check)\n",
    "for patent in common_patents:\n",
    "    matched_nodes[patent]=get_graph_similarity(patent_to_check, patent)"
   ]
  },
  {
   "cell_type": "code",
   "execution_count": 11,
   "metadata": {},
   "outputs": [
    {
     "data": {
      "text/plain": [
       "{'US-11132609-B2': [['1', '21'],\n",
       "  ['58', '21'],\n",
       "  ['66', '1'],\n",
       "  ['66', '21'],\n",
       "  ['61', '1'],\n",
       "  ['61', '21'],\n",
       "  ['61', '22']],\n",
       " 'US-11022719-B2': [['66', '2'],\n",
       "  ['66', '16'],\n",
       "  ['61', '15'],\n",
       "  ['61', '2'],\n",
       "  ['61', '16']],\n",
       " 'US-11475330-B2': [['59', '1'], ['66', '1'], ['61', '1']],\n",
       " 'US-11423886-B2': [['59', '19']],\n",
       " 'US-11403526-B2': [],\n",
       " 'US-11357502-B2': [],\n",
       " 'US-11501194-B2': [['50', '1'], ['59', '11'], ['66', '11']],\n",
       " 'US-11675943-B2': [['58', '1'], ['59', '1'], ['66', '1'], ['61', '1']],\n",
       " 'US-9349100-B2': [],\n",
       " 'US-2021232955-A1': [['59', '1'],\n",
       "  ['59', '7'],\n",
       "  ['59', '13'],\n",
       "  ['59', '19'],\n",
       "  ['59', '22'],\n",
       "  ['66', '1'],\n",
       "  ['66', '7'],\n",
       "  ['66', '13'],\n",
       "  ['66', '19'],\n",
       "  ['66', '22'],\n",
       "  ['60', '1'],\n",
       "  ['60', '7'],\n",
       "  ['60', '13'],\n",
       "  ['61', '1'],\n",
       "  ['61', '7'],\n",
       "  ['61', '13'],\n",
       "  ['61', '19'],\n",
       "  ['61', '22'],\n",
       "  ['63', '1'],\n",
       "  ['63', '13']]}"
      ]
     },
     "execution_count": 11,
     "metadata": {},
     "output_type": "execute_result"
    }
   ],
   "source": [
    "matched_nodes"
   ]
  }
 ],
 "metadata": {
  "kernelspec": {
   "display_name": "Python 3",
   "language": "python",
   "name": "python3"
  },
  "language_info": {
   "codemirror_mode": {
    "name": "ipython",
    "version": 3
   },
   "file_extension": ".py",
   "mimetype": "text/x-python",
   "name": "python",
   "nbconvert_exporter": "python",
   "pygments_lexer": "ipython3",
   "version": "3.8.3"
  }
 },
 "nbformat": 4,
 "nbformat_minor": 2
}
