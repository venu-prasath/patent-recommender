{
 "cells": [
  {
   "cell_type": "code",
   "execution_count": 1,
   "metadata": {},
   "outputs": [],
   "source": [
    "import json\n",
    "import pandas as pd\n",
    "from glob import glob\n",
    "from tqdm import tqdm\n",
    "tqdm.pandas()\n",
    "import numpy as np\n",
    "from scripts.graph_funcs import *\n",
    "from scripts.network_graph import make_network\n",
    "import networkx as nx\n"
   ]
  },
  {
   "cell_type": "code",
   "execution_count": 2,
   "metadata": {},
   "outputs": [],
   "source": [
    "file_list=glob('dataset/*/*.json')\n",
    "df=pd.DataFrame.from_dict(json.load(open(file_list[0])), orient=\"index\").T\n",
    "for patent_loc in file_list[1:]:\n",
    "    patent_file=json.load(open(patent_loc))\n",
    "    temp_df=pd.DataFrame.from_dict(patent_file, orient=\"index\").T\n",
    "    df=pd.concat([df, temp_df], ignore_index=True)"
   ]
  },
  {
   "cell_type": "code",
   "execution_count": 3,
   "metadata": {},
   "outputs": [],
   "source": [
    "df['publication_date']= pd.to_datetime(df['publication_date'])\n",
    "df['publication_year']=df['publication_date'].apply(lambda k: k.year)"
   ]
  },
  {
   "cell_type": "code",
   "execution_count": 4,
   "metadata": {},
   "outputs": [
    {
     "data": {
      "text/html": [
       "<div>\n",
       "<style scoped>\n",
       "    .dataframe tbody tr th:only-of-type {\n",
       "        vertical-align: middle;\n",
       "    }\n",
       "\n",
       "    .dataframe tbody tr th {\n",
       "        vertical-align: top;\n",
       "    }\n",
       "\n",
       "    .dataframe thead th {\n",
       "        text-align: right;\n",
       "    }\n",
       "</style>\n",
       "<table border=\"1\" class=\"dataframe\">\n",
       "  <thead>\n",
       "    <tr style=\"text-align: right;\">\n",
       "      <th></th>\n",
       "      <th>patent_id</th>\n",
       "      <th>title</th>\n",
       "      <th>assignee</th>\n",
       "      <th>publication_date</th>\n",
       "      <th>patent_link</th>\n",
       "      <th>inventors</th>\n",
       "      <th>classifications</th>\n",
       "      <th>abstract</th>\n",
       "      <th>claims</th>\n",
       "      <th>status</th>\n",
       "      <th>citations_own</th>\n",
       "      <th>citations_ftf</th>\n",
       "      <th>citedby_own</th>\n",
       "      <th>citedby_ftf</th>\n",
       "      <th>publication_year</th>\n",
       "    </tr>\n",
       "  </thead>\n",
       "  <tbody>\n",
       "    <tr>\n",
       "      <th>0</th>\n",
       "      <td>US-10002325-B2</td>\n",
       "      <td>Knowledge representation systems and methods i...</td>\n",
       "      <td>Primal Fusion Inc.</td>\n",
       "      <td>2018-06-19</td>\n",
       "      <td>https://patents.google.com/patent/US10002325B2/en</td>\n",
       "      <td>[Peter Joseph Sweeney, Ihab Francis Ilyas, Wu ...</td>\n",
       "      <td>[G06N5/02, G06F16/84, G06F17/30914, G06N7/005,...</td>\n",
       "      <td>Techniques for analyzing and synthesizing comp...</td>\n",
       "      <td>\\n1. A method of modifying a computer-readable...</td>\n",
       "      <td>Active</td>\n",
       "      <td>[US3943462A, US4532813A, US4972328A, US5056021...</td>\n",
       "      <td>[]</td>\n",
       "      <td>[US20150356418A1, US10248669B2, US10671577B2, ...</td>\n",
       "      <td>[US9378203B2, US7849090B2, US8849860B2, US9104...</td>\n",
       "      <td>2018</td>\n",
       "    </tr>\n",
       "    <tr>\n",
       "      <th>1</th>\n",
       "      <td>US-10162734-B1</td>\n",
       "      <td>Method and system for crowdsourcing software q...</td>\n",
       "      <td>Intuit Inc.</td>\n",
       "      <td>2018-12-25</td>\n",
       "      <td>https://patents.google.com/patent/US10162734B1/en</td>\n",
       "      <td>[Igor A. Podgorny, Joseph Cessna, Christopher ...</td>\n",
       "      <td>[G06F11/366, G06N20/00, G06N20/20, G06N5/041, ...</td>\n",
       "      <td>Disclosed methods and systems crowdsource qual...</td>\n",
       "      <td>\\n1. A computing system implemented method for...</td>\n",
       "      <td>Active</td>\n",
       "      <td>[US5471382A, US5519608A, US6147975A, US2002011...</td>\n",
       "      <td>[]</td>\n",
       "      <td>[US20180032890A1, US10373064B2, US10394804B1, ...</td>\n",
       "      <td>[]</td>\n",
       "      <td>2018</td>\n",
       "    </tr>\n",
       "    <tr>\n",
       "      <th>2</th>\n",
       "      <td>US-10210244-B1</td>\n",
       "      <td>Updating natural language interfaces by proces...</td>\n",
       "      <td>Asapp, Inc.</td>\n",
       "      <td>2019-02-19</td>\n",
       "      <td>https://patents.google.com/patent/US10210244B1/en</td>\n",
       "      <td>[Satchuthananthavale Rasiah Kuhan Branavan, Jo...</td>\n",
       "      <td>[G06F17/30654, G06F16/3329, G06F16/35, G06F17/...</td>\n",
       "      <td>A third-party company may assist companies in ...</td>\n",
       "      <td>\\n1. A system for implementing natural languag...</td>\n",
       "      <td>Active</td>\n",
       "      <td>[US5195034A, US5227971A, US5369575A, US6173279...</td>\n",
       "      <td>[US8374863B2, US7664644B1, US9558743B2, WO2015...</td>\n",
       "      <td>[US20190099224A1, US10387888B2, US10482875B2, ...</td>\n",
       "      <td>[US11593608B2, US11049023B1, US11393475B1, US2...</td>\n",
       "      <td>2019</td>\n",
       "    </tr>\n",
       "    <tr>\n",
       "      <th>3</th>\n",
       "      <td>US-10216983-B2</td>\n",
       "      <td>Techniques for assessing group level cognitive...</td>\n",
       "      <td>General Electric Company</td>\n",
       "      <td>2019-02-26</td>\n",
       "      <td>https://patents.google.com/patent/US10216983B2/en</td>\n",
       "      <td>[Peter Henry Tu, Tao Gao, Jilin Tu]</td>\n",
       "      <td>[G06V10/62, G06K9/00335, G06N5/041, A61B5/0013...</td>\n",
       "      <td>A security monitoring technique includes recei...</td>\n",
       "      <td>\\n1. A method, comprising:\\nreceiving data rel...</td>\n",
       "      <td>Active</td>\n",
       "      <td>[US20040057556A1, US20060059113A1, US200601533...</td>\n",
       "      <td>[US7433493B1, US8195598B2, JP5366047B2, JP2011...</td>\n",
       "      <td>[US11381651B2, EP4004814A4]</td>\n",
       "      <td>[US10445565B2, US20180190377A1, JP6615800B2, U...</td>\n",
       "      <td>2019</td>\n",
       "    </tr>\n",
       "    <tr>\n",
       "      <th>4</th>\n",
       "      <td>US-10275453-B2</td>\n",
       "      <td>Automatic, unsupervised paraphrase detection</td>\n",
       "      <td>International Business Machines Corporation</td>\n",
       "      <td>2019-04-30</td>\n",
       "      <td>https://patents.google.com/patent/US10275453B2/en</td>\n",
       "      <td>[Laura J. BENNETT, Lakshminarayanan Krishnamur...</td>\n",
       "      <td>[G06F17/2775, G06N5/041, G06F16/243, G06F17/27...</td>\n",
       "      <td>A method is disclosed for identifying paraphra...</td>\n",
       "      <td>\\n1. A computer-implementable method for ident...</td>\n",
       "      <td>Active</td>\n",
       "      <td>[US6161084A, US7392185B2, US8271453B1, CA24844...</td>\n",
       "      <td>[]</td>\n",
       "      <td>[US10740401B2]</td>\n",
       "      <td>[CN111555954B, US10083451B2, US10275452B2, US1...</td>\n",
       "      <td>2019</td>\n",
       "    </tr>\n",
       "  </tbody>\n",
       "</table>\n",
       "</div>"
      ],
      "text/plain": [
       "        patent_id                                              title  \\\n",
       "0  US-10002325-B2  Knowledge representation systems and methods i...   \n",
       "1  US-10162734-B1  Method and system for crowdsourcing software q...   \n",
       "2  US-10210244-B1  Updating natural language interfaces by proces...   \n",
       "3  US-10216983-B2  Techniques for assessing group level cognitive...   \n",
       "4  US-10275453-B2      Automatic, unsupervised paraphrase detection    \n",
       "\n",
       "                                      assignee publication_date  \\\n",
       "0                           Primal Fusion Inc.       2018-06-19   \n",
       "1                                  Intuit Inc.       2018-12-25   \n",
       "2                                  Asapp, Inc.       2019-02-19   \n",
       "3                     General Electric Company       2019-02-26   \n",
       "4  International Business Machines Corporation       2019-04-30   \n",
       "\n",
       "                                         patent_link  \\\n",
       "0  https://patents.google.com/patent/US10002325B2/en   \n",
       "1  https://patents.google.com/patent/US10162734B1/en   \n",
       "2  https://patents.google.com/patent/US10210244B1/en   \n",
       "3  https://patents.google.com/patent/US10216983B2/en   \n",
       "4  https://patents.google.com/patent/US10275453B2/en   \n",
       "\n",
       "                                           inventors  \\\n",
       "0  [Peter Joseph Sweeney, Ihab Francis Ilyas, Wu ...   \n",
       "1  [Igor A. Podgorny, Joseph Cessna, Christopher ...   \n",
       "2  [Satchuthananthavale Rasiah Kuhan Branavan, Jo...   \n",
       "3                [Peter Henry Tu, Tao Gao, Jilin Tu]   \n",
       "4  [Laura J. BENNETT, Lakshminarayanan Krishnamur...   \n",
       "\n",
       "                                     classifications  \\\n",
       "0  [G06N5/02, G06F16/84, G06F17/30914, G06N7/005,...   \n",
       "1  [G06F11/366, G06N20/00, G06N20/20, G06N5/041, ...   \n",
       "2  [G06F17/30654, G06F16/3329, G06F16/35, G06F17/...   \n",
       "3  [G06V10/62, G06K9/00335, G06N5/041, A61B5/0013...   \n",
       "4  [G06F17/2775, G06N5/041, G06F16/243, G06F17/27...   \n",
       "\n",
       "                                            abstract  \\\n",
       "0  Techniques for analyzing and synthesizing comp...   \n",
       "1  Disclosed methods and systems crowdsource qual...   \n",
       "2  A third-party company may assist companies in ...   \n",
       "3  A security monitoring technique includes recei...   \n",
       "4  A method is disclosed for identifying paraphra...   \n",
       "\n",
       "                                              claims  status  \\\n",
       "0  \\n1. A method of modifying a computer-readable...  Active   \n",
       "1  \\n1. A computing system implemented method for...  Active   \n",
       "2  \\n1. A system for implementing natural languag...  Active   \n",
       "3  \\n1. A method, comprising:\\nreceiving data rel...  Active   \n",
       "4  \\n1. A computer-implementable method for ident...  Active   \n",
       "\n",
       "                                       citations_own  \\\n",
       "0  [US3943462A, US4532813A, US4972328A, US5056021...   \n",
       "1  [US5471382A, US5519608A, US6147975A, US2002011...   \n",
       "2  [US5195034A, US5227971A, US5369575A, US6173279...   \n",
       "3  [US20040057556A1, US20060059113A1, US200601533...   \n",
       "4  [US6161084A, US7392185B2, US8271453B1, CA24844...   \n",
       "\n",
       "                                       citations_ftf  \\\n",
       "0                                                 []   \n",
       "1                                                 []   \n",
       "2  [US8374863B2, US7664644B1, US9558743B2, WO2015...   \n",
       "3  [US7433493B1, US8195598B2, JP5366047B2, JP2011...   \n",
       "4                                                 []   \n",
       "\n",
       "                                         citedby_own  \\\n",
       "0  [US20150356418A1, US10248669B2, US10671577B2, ...   \n",
       "1  [US20180032890A1, US10373064B2, US10394804B1, ...   \n",
       "2  [US20190099224A1, US10387888B2, US10482875B2, ...   \n",
       "3                        [US11381651B2, EP4004814A4]   \n",
       "4                                     [US10740401B2]   \n",
       "\n",
       "                                         citedby_ftf  publication_year  \n",
       "0  [US9378203B2, US7849090B2, US8849860B2, US9104...              2018  \n",
       "1                                                 []              2018  \n",
       "2  [US11593608B2, US11049023B1, US11393475B1, US2...              2019  \n",
       "3  [US10445565B2, US20180190377A1, JP6615800B2, U...              2019  \n",
       "4  [CN111555954B, US10083451B2, US10275452B2, US1...              2019  "
      ]
     },
     "execution_count": 4,
     "metadata": {},
     "output_type": "execute_result"
    }
   ],
   "source": [
    "df.head()"
   ]
  },
  {
   "cell_type": "code",
   "execution_count": 26,
   "metadata": {},
   "outputs": [
    {
     "name": "stderr",
     "output_type": "stream",
     "text": [
      "100%|██| 271216/271216 [10:11<00:00, 443.19it/s]\n"
     ]
    }
   ],
   "source": [
    "G2=make_network(df, use_citations=True, use_abstract=True, file_loc='dataset/network.adjlist')"
   ]
  },
  {
   "cell_type": "code",
   "execution_count": 19,
   "metadata": {},
   "outputs": [
    {
     "name": "stderr",
     "output_type": "stream",
     "text": [
      "100%|██| 271216/271216 [08:49<00:00, 512.32it/s]\n"
     ]
    }
   ],
   "source": [
    "G=make_network(df, use_abstract=True, use_cpc=True, file_loc='dataset/network2.adjlist')"
   ]
  },
  {
   "cell_type": "code",
   "execution_count": 5,
   "metadata": {},
   "outputs": [],
   "source": [
    "G=nx.read_adjlist('dataset/network.adjlist')"
   ]
  },
  {
   "cell_type": "code",
   "execution_count": 6,
   "metadata": {},
   "outputs": [],
   "source": [
    "G2=nx.read_adjlist('dataset/network2.adjlist')"
   ]
  },
  {
   "cell_type": "code",
   "execution_count": 7,
   "metadata": {},
   "outputs": [],
   "source": [
    "citation_patent={}\n",
    "\n",
    "for idx in df.index:\n",
    "    for citation in df['citations_own'][idx]:\n",
    "        if citation in citation_patent:\n",
    "            citation_patent[citation].append(df['patent_id'][idx])\n",
    "        else:\n",
    "            citation_patent[citation] = [df['citations_own'][idx]]"
   ]
  },
  {
   "cell_type": "code",
   "execution_count": 8,
   "metadata": {},
   "outputs": [],
   "source": [
    "patent_to_check='US-4658370-A'"
   ]
  },
  {
   "cell_type": "code",
   "execution_count": 15,
   "metadata": {},
   "outputs": [],
   "source": [
    "starter_nodes=[]\n",
    "for citation in df[df['patent_id']==patent_to_check]['citations_own'].values[0]:\n",
    "    starter_nodes.append(np.random.choice(citation_patent[citation][0]))"
   ]
  },
  {
   "cell_type": "code",
   "execution_count": 22,
   "metadata": {},
   "outputs": [],
   "source": [
    "classificiation_patent={}\n",
    "\n",
    "for idx in df.index:\n",
    "    for cpc in df['classifications'][idx]:\n",
    "        if cpc in classificiation_patent:\n",
    "            classificiation_patent[cpc].append(df['patent_id'][idx])\n",
    "        else:\n",
    "            classificiation_patent[cpc]=[df['patent_id'][idx]]"
   ]
  },
  {
   "cell_type": "code",
   "execution_count": 23,
   "metadata": {},
   "outputs": [],
   "source": [
    "patent_to_check='US-4658370-A'"
   ]
  },
  {
   "cell_type": "code",
   "execution_count": 24,
   "metadata": {},
   "outputs": [],
   "source": [
    "starter_nodes=[]\n",
    "for cpc in df[df['patent_id']==patent_to_check]['classifications'].values[0]:\n",
    "    starter_nodes.append(np.random.choice(classificiation_patent[cpc]))"
   ]
  },
  {
   "cell_type": "code",
   "execution_count": 8,
   "metadata": {},
   "outputs": [],
   "source": [
    "random_walks=[]\n",
    "for node in starter_nodes:\n",
    "    random_walks.append(random_walk(G, node))"
   ]
  },
  {
   "cell_type": "code",
   "execution_count": 9,
   "metadata": {},
   "outputs": [],
   "source": [
    "from functools import reduce\n",
    "\n",
    "common_patents = list(reduce(lambda i, j: i & j, (set(x) for x in random_walks)))"
   ]
  },
  {
   "cell_type": "code",
   "execution_count": 10,
   "metadata": {},
   "outputs": [],
   "source": [
    "matched_nodes={}\n",
    "if patent_to_check in common_patents:\n",
    "    common_patents.remove(patent_to_check)\n",
    "for patent in common_patents:\n",
    "    matched_nodes[patent]=get_graph_similarity(patent_to_check, patent)"
   ]
  },
  {
   "cell_type": "code",
   "execution_count": 11,
   "metadata": {},
   "outputs": [
    {
     "data": {
      "text/plain": [
       "{'US-11132609-B2': [['1', '21'],\n",
       "  ['58', '21'],\n",
       "  ['66', '1'],\n",
       "  ['66', '21'],\n",
       "  ['61', '1'],\n",
       "  ['61', '21'],\n",
       "  ['61', '22']],\n",
       " 'US-11022719-B2': [['66', '2'],\n",
       "  ['66', '16'],\n",
       "  ['61', '15'],\n",
       "  ['61', '2'],\n",
       "  ['61', '16']],\n",
       " 'US-11475330-B2': [['59', '1'], ['66', '1'], ['61', '1']],\n",
       " 'US-11423886-B2': [['59', '19']],\n",
       " 'US-11403526-B2': [],\n",
       " 'US-11357502-B2': [],\n",
       " 'US-11501194-B2': [['50', '1'], ['59', '11'], ['66', '11']],\n",
       " 'US-11675943-B2': [['58', '1'], ['59', '1'], ['66', '1'], ['61', '1']],\n",
       " 'US-9349100-B2': [],\n",
       " 'US-2021232955-A1': [['59', '1'],\n",
       "  ['59', '7'],\n",
       "  ['59', '13'],\n",
       "  ['59', '19'],\n",
       "  ['59', '22'],\n",
       "  ['66', '1'],\n",
       "  ['66', '7'],\n",
       "  ['66', '13'],\n",
       "  ['66', '19'],\n",
       "  ['66', '22'],\n",
       "  ['60', '1'],\n",
       "  ['60', '7'],\n",
       "  ['60', '13'],\n",
       "  ['61', '1'],\n",
       "  ['61', '7'],\n",
       "  ['61', '13'],\n",
       "  ['61', '19'],\n",
       "  ['61', '22'],\n",
       "  ['63', '1'],\n",
       "  ['63', '13']]}"
      ]
     },
     "execution_count": 11,
     "metadata": {},
     "output_type": "execute_result"
    }
   ],
   "source": [
    "matched_nodes"
   ]
  }
 ],
 "metadata": {
  "kernelspec": {
   "display_name": "Python 3 (ipykernel)",
   "language": "python",
   "name": "python3"
  },
  "language_info": {
   "codemirror_mode": {
    "name": "ipython",
    "version": 3
   },
   "file_extension": ".py",
   "mimetype": "text/x-python",
   "name": "python",
   "nbconvert_exporter": "python",
   "pygments_lexer": "ipython3",
   "version": "3.8.3"
  }
 },
 "nbformat": 4,
 "nbformat_minor": 2
}
